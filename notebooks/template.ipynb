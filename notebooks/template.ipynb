{
 "cells": [
  {
   "cell_type": "code",
   "execution_count": null,
   "metadata": {},
   "outputs": [],
   "source": [
    "import os\n",
    "\n",
    "def get_kaggle_input_dir() -> str:\n",
    "    for path in [\n",
    "        '/kaggle/input',\n",
    "        '../kaggle/input',\n",
    "    ]:\n",
    "        if os.path.exists(path):\n",
    "            return path\n",
    "    raise FileNotFoundError(\"Kaggle input directory not found.\")\n",
    "\n",
    "get_kaggle_input_dir()"
   ]
  },
  {
   "cell_type": "code",
   "execution_count": null,
   "metadata": {},
   "outputs": [],
   "source": []
  }
 ],
 "metadata": {
  "kernelspec": {
   "display_name": "venv",
   "language": "python",
   "name": "python3"
  },
  "language_info": {
   "codemirror_mode": {
    "name": "ipython",
    "version": 3
   },
   "file_extension": ".py",
   "mimetype": "text/x-python",
   "name": "python",
   "nbconvert_exporter": "python",
   "pygments_lexer": "ipython3",
   "version": "3.10.11"
  }
 },
 "nbformat": 4,
 "nbformat_minor": 2
}
